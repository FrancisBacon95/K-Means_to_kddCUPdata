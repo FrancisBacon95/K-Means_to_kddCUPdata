{
 "cells": [
  {
   "cell_type": "markdown",
   "metadata": {},
   "source": [
    "# 7. sparkR에서 시각화 실시"
   ]
  },
  {
   "cell_type": "code",
   "execution_count": 1,
   "metadata": {},
   "outputs": [
    {
     "name": "stderr",
     "output_type": "stream",
     "text": [
      "\n",
      "Attaching package: 'SparkR'\n",
      "\n",
      "The following objects are masked from 'package:stats':\n",
      "\n",
      "    cov, filter, lag, na.omit, predict, sd, var, window\n",
      "\n",
      "The following objects are masked from 'package:base':\n",
      "\n",
      "    as.data.frame, colnames, colnames<-, drop, endsWith, intersect,\n",
      "    rank, rbind, sample, startsWith, subset, summary, transform, union\n",
      "\n",
      "Spark package found in SPARK_HOME: C:\\spark-2.4.6-bin-hadoop2.7\n"
     ]
    },
    {
     "name": "stdout",
     "output_type": "stream",
     "text": [
      "Launching java with spark-submit command C:\\spark-2.4.6-bin-hadoop2.7/bin/spark-submit2.cmd   --driver-memory \"4g\" sparkr-shell C:\\Users\\franc\\AppData\\Local\\Temp\\RtmpyY46KX\\backend_port47646074435d \n"
     ]
    },
    {
     "data": {
      "text/plain": [
       "Java ref type org.apache.spark.sql.SparkSession id 1 "
      ]
     },
     "metadata": {},
     "output_type": "display_data"
    }
   ],
   "source": [
    "Sys.setenv(SPARK_HOME = \"C:\\\\spark-2.4.6-bin-hadoop2.7\")\n",
    "library(SparkR, lib.loc = c(file.path(Sys.getenv(\"SPARK_HOME\"), \"R\", \"lib\")))\n",
    "sparkR.session(master = \"local[*]\", sparkConfig = list(spark.driver.memory = \"4g\"))\n",
    "\n",
    "clusters_data <- read.df(\"C:\\\\spark-2.4.6-bin-hadoop2.7\\\\bin\\\\Chap5_data\\\\kddcup.data_10_percent_corrected\", \"csv\",\n",
    "                         inferSchema = \"true\", header = \"false\")\n",
    "colnames(clusters_data) <- c(\n",
    "  \"duration\", \"protocol_type\", \"service\", \"flag\",\n",
    "  \"src_bytes\", \"dst_bytes\", \"land\", \"wrong_fragment\", \"urgent\",\n",
    "  \"hot\", \"num_failed_logins\", \"logged_in\", \"num_compromised\",\n",
    "  \"root_shell\", \"su_attempted\", \"num_root\", \"num_file_creations\",\n",
    "  \"num_shells\", \"num_access_files\", \"num_outbound_cmds\",\n",
    "  \"is_host_login\", \"is_guest_login\", \"count\", \"srv_count\",\n",
    "  \"serror_rate\", \"srv_serror_rate\", \"rerror_rate\", \"srv_rerror_rate\",\n",
    "  \"same_srv_rate\", \"diff_srv_rate\", \"srv_diff_host_rate\",\n",
    "  \"dst_host_count\", \"dst_host_srv_count\",\n",
    "  \"dst_host_same_srv_rate\", \"dst_host_diff_srv_rate\",\n",
    "  \"dst_host_same_src_port_rate\", \"dst_host_srv_diff_host_rate\",\n",
    "  \"dst_host_serror_rate\", \"dst_host_srv_serror_rate\",\n",
    "  \"dst_host_rerror_rate\", \"dst_host_srv_rerror_rate\",\n",
    "  \"label\")"
   ]
  },
  {
   "cell_type": "code",
   "execution_count": 2,
   "metadata": {},
   "outputs": [
    {
     "name": "stdout",
     "output_type": "stream",
     "text": [
      "'data.frame':\t4991 obs. of  39 variables:\n",
      " $ duration                   : int  0 0 0 0 0 0 0 0 0 3 ...\n",
      " $ src_bytes                  : int  309 155 232 297 152 281 203 202 203 260 ...\n",
      " $ dst_bytes                  : int  17798 2026 1302 5246 8159 755 316 259 4584 9743 ...\n",
      " $ land                       : int  0 0 0 0 0 0 0 0 0 0 ...\n",
      " $ wrong_fragment             : int  0 0 0 0 0 0 0 0 0 0 ...\n",
      " $ urgent                     : int  0 0 0 0 0 0 0 0 0 0 ...\n",
      " $ hot                        : int  0 0 0 0 0 0 0 0 0 0 ...\n",
      " $ num_failed_logins          : int  0 0 0 0 0 0 0 0 0 0 ...\n",
      " $ logged_in                  : int  1 1 1 1 1 1 1 1 1 1 ...\n",
      " $ num_compromised            : int  0 0 0 0 0 0 0 0 0 0 ...\n",
      " $ root_shell                 : int  0 0 0 0 0 0 0 0 0 0 ...\n",
      " $ su_attempted               : int  0 0 0 0 0 0 0 0 0 0 ...\n",
      " $ num_root                   : int  0 0 0 0 0 0 0 0 0 0 ...\n",
      " $ num_file_creations         : int  0 0 0 0 0 0 0 0 0 0 ...\n",
      " $ num_shells                 : int  0 0 0 0 0 0 0 0 0 0 ...\n",
      " $ num_access_files           : int  0 0 0 0 0 0 0 0 0 0 ...\n",
      " $ num_outbound_cmds          : int  0 0 0 0 0 0 0 0 0 0 ...\n",
      " $ is_host_login              : int  0 0 0 0 0 0 0 0 0 0 ...\n",
      " $ is_guest_login             : int  0 0 0 0 0 0 0 0 0 0 ...\n",
      " $ count                      : int  2 2 4 2 1 2 10 8 17 1 ...\n",
      " $ srv_count                  : int  2 2 4 2 1 9 14 8 19 1 ...\n",
      " $ serror_rate                : num  0 0 0 0 0 0 0 0 0 0 ...\n",
      " $ srv_serror_rate            : num  0 0 0 0 0 0 0 0 0 0 ...\n",
      " $ rerror_rate                : num  0 0 0 0 0 0 0 0 0 0 ...\n",
      " $ srv_rerror_rate            : num  0 0 0 0 0 0 0 0 0 0 ...\n",
      " $ same_srv_rate              : num  1 1 1 1 1 1 1 1 1 1 ...\n",
      " $ diff_srv_rate              : num  0 0 0 0 0 0 0 0 0 0 ...\n",
      " $ srv_diff_host_rate         : num  0 0 0 0 0 0.22 0.14 0 0.16 0 ...\n",
      " $ dst_host_count             : int  2 255 4 27 255 121 255 30 66 45 ...\n",
      " $ dst_host_srv_count         : int  255 255 255 255 255 255 255 255 255 255 ...\n",
      " $ dst_host_same_srv_rate     : num  1 1 1 1 1 1 1 1 1 1 ...\n",
      " $ dst_host_diff_srv_rate     : num  0 0 0 0 0 0 0 0 0 0 ...\n",
      " $ dst_host_same_src_port_rate: num  0.5 0 0.25 0.04 0 0.01 0 0.03 0.02 0.02 ...\n",
      " $ dst_host_srv_diff_host_rate: num  0.06 0 0.05 0.02 0 0.04 0 0.03 0.02 0.06 ...\n",
      " $ dst_host_serror_rate       : num  0 0 0 0 0 0 0 0 0 0 ...\n",
      " $ dst_host_srv_serror_rate   : num  0 0 0 0 0 0 0 0 0 0 ...\n",
      " $ dst_host_rerror_rate       : num  0 0 0 0 0 0 0 0 0 0 ...\n",
      " $ dst_host_srv_rerror_rate   : num  0 0 0 0 0 0 0 0 0 0 ...\n",
      " $ prediction                 : int  64 0 0 0 0 0 0 0 0 0 ...\n"
     ]
    }
   ],
   "source": [
    "numeric_only <- cache(drop(clusters_data,\n",
    "                           c(\"protocol_type\", \"service\", \"flag\", \"label\")))\n",
    "\n",
    "kmeans_model <- spark.kmeans(numeric_only, ~ .,\n",
    "                             k = 100, maxIter = 40, initMode = \"k-means||\")\n",
    "\n",
    "clustering <- predict(kmeans_model, numeric_only)\n",
    "clustering_sample <- collect(sample(clustering, FALSE, 0.01))\n",
    "str(clustering_sample)"
   ]
  },
  {
   "cell_type": "code",
   "execution_count": 3,
   "metadata": {},
   "outputs": [
    {
     "data": {
      "text/plain": [
       "clusters\n",
       "   0    2   16   64 \n",
       "4913    1   17   60 "
      ]
     },
     "metadata": {},
     "output_type": "display_data"
    }
   ],
   "source": [
    "clusters=clustering_sample[\"prediction\"]\n",
    "data=data.matrix(within(clustering_sample,rm(\"prediction\")))\n",
    "\n",
    "table(clusters)"
   ]
  },
  {
   "cell_type": "markdown",
   "metadata": {},
   "source": [
    "### 무작위 투영\n",
    "\n",
    "이 데이터는 38차원이다.\n",
    "이를 무작위 투영(Random Projection)으로 시각화하려면 3차원 이하의 공간에 투영해야 한다."
   ]
  },
  {
   "cell_type": "code",
   "execution_count": 4,
   "metadata": {},
   "outputs": [
    {
     "name": "stderr",
     "output_type": "stream",
     "text": [
      "Warning message:\n",
      "\"package 'rgl' was built under R version 3.6.3\""
     ]
    }
   ],
   "source": [
    "#install.packages(\"rgl\")\n",
    "library(rgl)\n",
    "\n",
    "#투영 데이터 생성\n",
    "random_projection = matrix(data=rnorm(3*ncol(data)),ncol=3)\n",
    "\n",
    "#투영 데이터 정규화\n",
    "random_projection_norm = random_projection/sqrt(rowSums(random_projection*random_projection))\n",
    "projected_data = data.frame(data %*% random_projection_norm)"
   ]
  },
  {
   "cell_type": "markdown",
   "metadata": {},
   "source": [
    "무작위 단위벡터(Unit Vector)를 3개 선택하고, 38차원 데이터를 이 3개의 벡터상으로 투영하여 3차원으로 만든다.\n",
    "\n",
    "좀 더 정교하게 하기 위해선,\n",
    "PCA, SVD 등을 이용해서 할 수도 있다.\n",
    "대신 시간이 오래 걸린다."
   ]
  },
  {
   "cell_type": "code",
   "execution_count": 5,
   "metadata": {},
   "outputs": [],
   "source": [
    "num_clusters=max(clusters)\n",
    "palette = rainbow(num_clusters)\n",
    "colors = sapply(clusters, function(c) palette[c])\n",
    "plot3d(projected_data,col=colors, size=100)"
   ]
  },
  {
   "attachments": {
    "image.png": {
     "image/png": "[encoded data removed]"
    }
   },
   "cell_type": "markdown",
   "metadata": {},
   "source": [
    "![image.png](attachment:image.png)"
   ]
  },
  {
   "cell_type": "markdown",
   "metadata": {},
   "source": [
    "(회전시킬 때 오류가 많이 발생해서 제대로 된 부분은 캡쳐하지 못했다.)"
   ]
  },
  {
   "cell_type": "code",
   "execution_count": null,
   "metadata": {},
   "outputs": [],
   "source": []
  }
 ],
 "metadata": {
  "kernelspec": {
   "display_name": "R",
   "language": "R",
   "name": "ir"
  },
  "language_info": {
   "codemirror_mode": "r",
   "file_extension": ".r",
   "mimetype": "text/x-r-source",
   "name": "R",
   "pygments_lexer": "r",
   "version": "3.6.1"
  }
 },
 "nbformat": 4,
 "nbformat_minor": 2
}
